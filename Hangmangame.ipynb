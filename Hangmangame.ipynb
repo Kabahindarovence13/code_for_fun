{
 "cells": [
  {
   "cell_type": "code",
   "execution_count": 37,
   "metadata": {},
   "outputs": [],
   "source": [
    "#import time module\n",
    "import time"
   ]
  },
  {
   "cell_type": "code",
   "execution_count": 39,
   "metadata": {},
   "outputs": [
    {
     "name": "stdout",
     "output_type": "stream",
     "text": [
      "what is your name? Hanie\n",
      "Hello, Hanie Its time to play Hangman!\n",
      "\n"
     ]
    }
   ],
   "source": [
    "#welcome the user and get their input\n",
    "name=input(\"what is your name? \")\n",
    "print(\"Hello, \" + name,\"Its time to play Hangman!\")\n",
    "print(\"\")\n",
    "    "
   ]
  },
  {
   "cell_type": "code",
   "execution_count": 40,
   "metadata": {},
   "outputs": [
    {
     "name": "stdout",
     "output_type": "stream",
     "text": [
      "\n"
     ]
    }
   ],
   "source": [
    "#wait for 1 second\n",
    "time.sleep(1)\n",
    "print()\n",
    "\"start guessing...\"\n",
    "time.sleep(0.5)\n"
   ]
  },
  {
   "cell_type": "code",
   "execution_count": 41,
   "metadata": {},
   "outputs": [],
   "source": [
    "#here we set the word secret\n",
    "word=\"Hangman\""
   ]
  },
  {
   "cell_type": "code",
   "execution_count": 42,
   "metadata": {},
   "outputs": [],
   "source": [
    "#creates a variable with an empty value\n",
    "guesses=''"
   ]
  },
  {
   "cell_type": "code",
   "execution_count": 43,
   "metadata": {},
   "outputs": [],
   "source": [
    "turns=10"
   ]
  },
  {
   "cell_type": "code",
   "execution_count": null,
   "metadata": {},
   "outputs": [],
   "source": [
    "#create a while loop check if the turns are more than zero\n",
    "while turns>0:\n",
    "    #make a count that starts with zero\n",
    "    failed=0\n",
    "    #for every character in the secret_Word\n",
    "    for char in word:\n",
    "        #see if character is in players guesses\n",
    "        if char in guesses:\n",
    "            #then print out character\n",
    "            print(char),\n",
    "        else:\n",
    "            #if not found,print a dash\n",
    "            print(\"-\"),\n",
    "            #and increase the failed counter with 1\n",
    "            failed += 1\n",
    "            #if failed is equal to zero print you won\n",
    "    if failed==0:\n",
    "        print(\"you won\")\n",
    "        #exit the script\n",
    "    break\n",
    "print()\n",
    "\n",
    "#ask the user to guess a character\n",
    "guess=input(\"guess character:\")\n",
    "\n",
    "#see the players guess to guesses\n",
    "if guess not in word:\n",
    "    #turns counter decreases with 1( now 9)\n",
    "    turns-=1\n",
    "    #print wrong\n",
    "    print(\"wrong\")\n",
    "    \n",
    "    #how many turns are left\n",
    "print(\"you have\",+ turns,\"more guesses\")\n",
    "\n",
    "#if the turns are equal to zero\n",
    "if turns==0:\n",
    "    print(\"you lost\")\n",
    "    \n",
    "            "
   ]
  },
  {
   "cell_type": "code",
   "execution_count": null,
   "metadata": {},
   "outputs": [],
   "source": []
  },
  {
   "cell_type": "code",
   "execution_count": null,
   "metadata": {},
   "outputs": [],
   "source": []
  }
 ],
 "metadata": {
  "kernelspec": {
   "display_name": "Python 3",
   "language": "python",
   "name": "python3"
  },
  "language_info": {
   "codemirror_mode": {
    "name": "ipython",
    "version": 3
   },
   "file_extension": ".py",
   "mimetype": "text/x-python",
   "name": "python",
   "nbconvert_exporter": "python",
   "pygments_lexer": "ipython3",
   "version": "3.7.3"
  }
 },
 "nbformat": 4,
 "nbformat_minor": 2
}
